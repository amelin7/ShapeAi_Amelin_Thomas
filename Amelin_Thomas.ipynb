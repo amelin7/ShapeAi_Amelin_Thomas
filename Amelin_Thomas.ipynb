{
  "nbformat": 4,
  "nbformat_minor": 0,
  "metadata": {
    "colab": {
      "name": "Amelin Thomas.ipynb",
      "provenance": [],
      "collapsed_sections": []
    },
    "kernelspec": {
      "name": "python3",
      "display_name": "Python 3"
    },
    "language_info": {
      "name": "python"
    }
  },
  "cells": [
    {
      "cell_type": "code",
      "metadata": {
        "colab": {
          "base_uri": "https://localhost:8080/"
        },
        "id": "PI01wBGQ13v-",
        "outputId": "14ce66f5-2957-4b6a-a785-3cdd0f490245"
      },
      "source": [
        "from keras.datasets import mnist\n",
        "data =mnist.load_data()"
      ],
      "execution_count": 1,
      "outputs": [
        {
          "output_type": "stream",
          "text": [
            "Downloading data from https://storage.googleapis.com/tensorflow/tf-keras-datasets/mnist.npz\n",
            "11493376/11490434 [==============================] - 0s 0us/step\n"
          ],
          "name": "stdout"
        }
      ]
    },
    {
      "cell_type": "code",
      "metadata": {
        "id": "buGFnEMI2cRx"
      },
      "source": [
        "((x_train,y_train) , (x_test,y_test))= data \n"
      ],
      "execution_count": 3,
      "outputs": []
    },
    {
      "cell_type": "code",
      "metadata": {
        "id": "CAc_UJKW2eOV"
      },
      "source": [
        "x_train=x_train.reshape((x_train.shape[0],28*28)).astype('float32') \n",
        "x_test=x_test.reshape((x_test.shape[0],28*28)).astype('float32') \n"
      ],
      "execution_count": 4,
      "outputs": []
    },
    {
      "cell_type": "code",
      "metadata": {
        "id": "Qa7ICA-J2k5N"
      },
      "source": [
        "x_train=x_train/255 \n",
        "x_test=x_test/255"
      ],
      "execution_count": 5,
      "outputs": []
    },
    {
      "cell_type": "code",
      "metadata": {
        "colab": {
          "base_uri": "https://localhost:8080/"
        },
        "id": "hLZTOJmX2rj_",
        "outputId": "759072b7-9dcb-42a6-8f56-bad7454dfa1c"
      },
      "source": [
        "from keras.utils import np_utils \n",
        "y_train=np_utils.to_categorical(y_train) \n",
        "y_test=np_utils.to_categorical(y_test) \n",
        "num_classes=y_test.shape[1] \n",
        "print(y_test.shape)  "
      ],
      "execution_count": 6,
      "outputs": [
        {
          "output_type": "stream",
          "text": [
            "(10000, 10)\n"
          ],
          "name": "stdout"
        }
      ]
    },
    {
      "cell_type": "code",
      "metadata": {
        "id": "j63_Ighd2zcn"
      },
      "source": [
        "from keras.models import Sequential \n",
        "from keras.layers import  Dense \n"
      ],
      "execution_count": 7,
      "outputs": []
    },
    {
      "cell_type": "code",
      "metadata": {
        "id": "R49yBaJz21R1"
      },
      "source": [
        "model=Sequential ()  \n",
        "model.add(Dense(32,input_dim=28*28, activation='relu')) \n",
        "model.add(Dense(64,activation='relu')) \n",
        "model.add(Dense(10,activation='softmax')) \n"
      ],
      "execution_count": 8,
      "outputs": []
    },
    {
      "cell_type": "code",
      "metadata": {
        "id": "BiLC_WGk27b_"
      },
      "source": [
        "model.compile(loss='categorical_crossentropy',optimizer='adam',metrics = ['accuracy'])\n"
      ],
      "execution_count": 9,
      "outputs": []
    },
    {
      "cell_type": "code",
      "metadata": {
        "colab": {
          "base_uri": "https://localhost:8080/"
        },
        "id": "ywvWjSyT3WCB",
        "outputId": "bc1f2131-0675-41f6-8dc2-ed77a96630a2"
      },
      "source": [
        "model.summary() "
      ],
      "execution_count": 11,
      "outputs": [
        {
          "output_type": "stream",
          "text": [
            "Model: \"sequential\"\n",
            "_________________________________________________________________\n",
            "Layer (type)                 Output Shape              Param #   \n",
            "=================================================================\n",
            "dense (Dense)                (None, 32)                25120     \n",
            "_________________________________________________________________\n",
            "dense_1 (Dense)              (None, 64)                2112      \n",
            "_________________________________________________________________\n",
            "dense_2 (Dense)              (None, 10)                650       \n",
            "=================================================================\n",
            "Total params: 27,882\n",
            "Trainable params: 27,882\n",
            "Non-trainable params: 0\n",
            "_________________________________________________________________\n"
          ],
          "name": "stdout"
        }
      ]
    },
    {
      "cell_type": "code",
      "metadata": {
        "colab": {
          "base_uri": "https://localhost:8080/"
        },
        "id": "HC-uWHBr3alI",
        "outputId": "3ba662f4-2931-44c2-bc5e-2e9b5067f550"
      },
      "source": [
        "model.fit(x_train, y_train, epochs=10, batch_size=100) "
      ],
      "execution_count": 12,
      "outputs": [
        {
          "output_type": "stream",
          "text": [
            "Epoch 1/10\n",
            "600/600 [==============================] - 2s 3ms/step - loss: 0.0664 - accuracy: 0.9797\n",
            "Epoch 2/10\n",
            "600/600 [==============================] - 2s 3ms/step - loss: 0.0607 - accuracy: 0.9809\n",
            "Epoch 3/10\n",
            "600/600 [==============================] - 2s 3ms/step - loss: 0.0575 - accuracy: 0.9812\n",
            "Epoch 4/10\n",
            "600/600 [==============================] - 2s 3ms/step - loss: 0.0536 - accuracy: 0.9830\n",
            "Epoch 5/10\n",
            "600/600 [==============================] - 2s 3ms/step - loss: 0.0497 - accuracy: 0.9848\n",
            "Epoch 6/10\n",
            "600/600 [==============================] - 2s 3ms/step - loss: 0.0459 - accuracy: 0.9856\n",
            "Epoch 7/10\n",
            "600/600 [==============================] - 2s 3ms/step - loss: 0.0426 - accuracy: 0.9870\n",
            "Epoch 8/10\n",
            "600/600 [==============================] - 2s 3ms/step - loss: 0.0406 - accuracy: 0.9868\n",
            "Epoch 9/10\n",
            "600/600 [==============================] - 2s 3ms/step - loss: 0.0371 - accuracy: 0.9886\n",
            "Epoch 10/10\n",
            "600/600 [==============================] - 2s 3ms/step - loss: 0.0350 - accuracy: 0.9889\n"
          ],
          "name": "stdout"
        },
        {
          "output_type": "execute_result",
          "data": {
            "text/plain": [
              "<tensorflow.python.keras.callbacks.History at 0x7f3a35c10890>"
            ]
          },
          "metadata": {
            "tags": []
          },
          "execution_count": 12
        }
      ]
    },
    {
      "cell_type": "code",
      "metadata": {
        "colab": {
          "base_uri": "https://localhost:8080/"
        },
        "id": "Xc6trFDJ3nG8",
        "outputId": "c5cfa4dd-6b08-49c3-ee6c-cf79a87ee973"
      },
      "source": [
        "scores= model.evaluate(x_test,y_test) \n",
        "print(scores)"
      ],
      "execution_count": 13,
      "outputs": [
        {
          "output_type": "stream",
          "text": [
            "313/313 [==============================] - 0s 1ms/step - loss: 0.1326 - accuracy: 0.9675\n",
            "[0.13260266184806824, 0.9674999713897705]\n"
          ],
          "name": "stdout"
        }
      ]
    }
  ]
}